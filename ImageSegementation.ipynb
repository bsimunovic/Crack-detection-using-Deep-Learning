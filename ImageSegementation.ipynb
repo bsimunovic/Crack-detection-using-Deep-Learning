{
 "cells": [
  {
   "cell_type": "code",
   "execution_count": 2,
   "id": "92c96ed1",
   "metadata": {},
   "outputs": [],
   "source": [
    "import cv2\n",
    "import os\n",
    "import sys\n",
    "import numpy as np\n",
    "from pathlib import Path\n",
    "import glob\n",
    "import pandas as pd"
   ]
  },
  {
   "cell_type": "code",
   "execution_count": 16,
   "id": "e7e70548",
   "metadata": {},
   "outputs": [],
   "source": [
    "t_path = r'E:\\\\FAX\\\\4GOD\\\\SEMESTAR_UNO\\\\Obrada_slike_i_racunalni_vid\\\\Projekt\\\\Dataset\\\\ImageProcessing\\\\ImageSegmentation\\\\'\n",
    "n_path = r'Dataset/'\n",
    "data_Path = Path(t_path)"
   ]
  },
  {
   "cell_type": "code",
   "execution_count": 17,
   "id": "4cf17898",
   "metadata": {},
   "outputs": [],
   "source": [
    "img_Path = list(data_Path.glob(r\"*/*.jpg\"))\n",
    "img_Labels = list(map(lambda x: os.path.split(os.path.split(x)[0])[1],img_Path))\n",
    "path_col = pd.Series(img_Path,name=\"PATH\").astype(str)\n",
    "labels_col = pd.Series(img_Labels,name=\"CATEGORY\")\n",
    "\n",
    "data = pd.concat([path_col,labels_col],axis=1)\n",
    "cracked = data[data[\"CATEGORY\"] == \"cracked\"]\n",
    "uncracked = data[data[\"CATEGORY\"] == \"uncracked\"]\n",
    "\n",
    "cracked.to_csv(\"TCKcracked.csv\")\n",
    "uncracked.to_csv(\"TCKuncracked.csv\")"
   ]
  },
  {
   "cell_type": "code",
   "execution_count": null,
   "id": "b72cc8c4",
   "metadata": {},
   "outputs": [],
   "source": [
    "def light(image, bright, contrast):\n",
    "    bright = bright * 1.2\n",
    "    contrast = contrast * 2\n",
    "    image = image * ((contrast/127)+1) - contrast + bright\n",
    "    image = np.clip(image, 0, 255)\n",
    "    return np.uint8(image)"
   ]
  },
  {
   "cell_type": "code",
   "execution_count": null,
   "id": "dd0b300d",
   "metadata": {},
   "outputs": [],
   "source": [
    "def threshold(image, min_limit=0, max_limit=255, clip=0):\n",
    "    _, image = cv2.threshold(image, min_limit, max_limit, cv2.THRESH_BINARY_INV)\n",
    "    return np.uint8(image)"
   ]
  },
  {
   "cell_type": "code",
   "execution_count": null,
   "id": "f74e407d",
   "metadata": {},
   "outputs": [],
   "source": [
    "def canny(image, min_limit = 0, max_limit = 255):\n",
    "    image = cv2.Canny(image, min_limit, max_limit)\n",
    "    return np.uint8(image)"
   ]
  },
  {
   "cell_type": "code",
   "execution_count": null,
   "id": "f6d6c717",
   "metadata": {},
   "outputs": [],
   "source": [
    "def equalize_light(image, limit=3, grid=(7,7), gray=False):\n",
    "    if (len(image.shape) == 2):\n",
    "        image = cv2.cvtColor(image, cv2.COLOR_GRAY2BGR)\n",
    "        gray = True\n",
    "    \n",
    "    clahe = cv2.createCLAHE(clipLimit=limit, tileGridSize=grid)\n",
    "    lab = cv2.cvtColor(image, cv2.COLOR_BGR2LAB)\n",
    "    l, a, b = cv2.split(lab)\n",
    "\n",
    "    cl = clahe.apply(l)\n",
    "    limg = cv2.merge((cl,a,b))\n",
    "\n",
    "    image = cv2.cvtColor(limg, cv2.COLOR_LAB2BGR)\n",
    "    if gray: \n",
    "        image = cv2.cvtColor(image, cv2.COLOR_BGR2GRAY)\n",
    "\n",
    "    return np.uint8(image)"
   ]
  },
  {
   "cell_type": "code",
   "execution_count": null,
   "id": "96dd70db",
   "metadata": {},
   "outputs": [],
   "source": [
    "def image_preprocessor(path):\n",
    "    image = cv2.imread(path)\n",
    "    rgbImage = cv2.cvtColor(image, cv2.COLOR_BGR2RGB)\n",
    "    thresholdImage = threshold(rgbImage, min_limit=150, max_limit=255)\n",
    "    cannyImage = cv2.Canny(thresholdImage, 90, 100)\n",
    "    contours,_ = cv2.findContours(cannyImage,cv2.RETR_EXTERNAL,cv2.CHAIN_APPROX_SIMPLE)\n",
    "    drawContoursPositive = cv2.drawContours(rgbImage,contours,-1,(255,0,0),1)\n",
    "    return drawContoursPositive\n",
    "    "
   ]
  },
  {
   "cell_type": "code",
   "execution_count": null,
   "id": "a5cf070c",
   "metadata": {},
   "outputs": [],
   "source": [
    "os.chdir(t_path + f\"/{mask}\")\n",
    "for folderName in os.listdir(t_path + '/train/'):\n",
    "    count = 0\n",
    "    for image_filename in os.listdir(t_path + '/train/' + folderName): \n",
    "        image =  image_preprocessor(t_path + '/train/' + folderName + '/' + image_filename)\n",
    "        \n",
    "        path = t_path + f\"/{mask}/\" + folderName\n",
    "        doesExist = os.path.exists(path)\n",
    "        if not doesExist:\n",
    "            os.makedirs(path)\n",
    "        os.chdir(t_path + f\"/{mask}/\" + folderName)\n",
    "        cv2.imwrite(folderName +'_0'+ str(count) + '.jpg', image)\n",
    "        count = count + 1\n",
    "    os.chdir(t_path + f\"/{mask}\")"
   ]
  }
 ],
 "metadata": {
  "interpreter": {
   "hash": "10200c399e97794d73688cfbf66dfc40a91f57e0f2402c18f4d09616fe161d88"
  },
  "kernelspec": {
   "display_name": "Python 3.9.7 ('DeepLearning')",
   "language": "python",
   "name": "python3"
  },
  "language_info": {
   "codemirror_mode": {
    "name": "ipython",
    "version": 3
   },
   "file_extension": ".py",
   "mimetype": "text/x-python",
   "name": "python",
   "nbconvert_exporter": "python",
   "pygments_lexer": "ipython3",
   "version": "3.9.7"
  }
 },
 "nbformat": 4,
 "nbformat_minor": 5
}
