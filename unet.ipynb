{
 "cells": [
  {
   "cell_type": "code",
   "execution_count": null,
   "id": "8e4f0186",
   "metadata": {},
   "outputs": [],
   "source": [
    "import numpy as np\n",
    "from sklearn.metrics import confusion_matrix, classification_report\n",
    "import matplotlib.pyplot as plt\n",
    "import seaborn as sns\n",
    "import pandas as pd\n",
    "import jinja2\n",
    "import cv2\n",
    "import logging\n",
    "\n",
    "from tensorflow import keras\n",
    "from tensorflow.keras.models import Sequential\n",
    "from tensorflow.keras.preprocessing import image_dataset_from_directory\n",
    "from tensorflow.keras.preprocessing.image import ImageDataGenerator\n",
    "from tensorflow.keras.callbacks import ModelCheckpoint, EarlyStopping\n",
    "import keras.backend as K\n",
    "from tensorflow.keras.models import Model\n",
    "from tensorflow.keras.layers import Input, Conv2D, MaxPooling2D, UpSampling2D, concatenate, Conv2DTranspose, BatchNormalization, Dropout, Lambda\n",
    "from tensorflow.keras.optimizers import Adam\n",
    "from tensorflow.keras.layers import Activation, MaxPool2D, Concatenate"
   ]
  },
  {
   "cell_type": "code",
   "execution_count": null,
   "id": "a35ea3c5",
   "metadata": {},
   "outputs": [],
   "source": [
    "def get_f1(y_true, y_pred): #taken from old keras source code\n",
    "    true_positives = K.sum(K.round(K.clip(y_true * y_pred, 0, 1)))\n",
    "    possible_positives = K.sum(K.round(K.clip(y_true, 0, 1)))\n",
    "    predicted_positives = K.sum(K.round(K.clip(y_pred, 0, 1)))\n",
    "    precision = true_positives / (predicted_positives + K.epsilon())\n",
    "    recall = true_positives / (possible_positives + K.epsilon())\n",
    "    f1_val = 2*(precision*recall)/(precision+recall+K.epsilon())\n",
    "    return f1_val"
   ]
  },
  {
   "cell_type": "code",
   "execution_count": null,
   "id": "6a3d0c9d",
   "metadata": {},
   "outputs": [],
   "source": [
    "def double_conv_block(x, n_filters):\n",
    "   # Conv2D then ReLU activation\n",
    "   x = keras.layers.Conv2D(n_filters, 3, padding = \"same\", activation = \"relu\", kernel_initializer = \"he_normal\")(x)\n",
    "   # Conv2D then ReLU activation\n",
    "   x = keras.layers.Conv2D(n_filters, 3, padding = \"same\", activation = \"relu\", kernel_initializer = \"he_normal\")(x)\n",
    "   return x\n",
    "\n",
    "def downsample_block(x, n_filters):\n",
    "   f = double_conv_block(x, n_filters)\n",
    "   p = keras.layers.MaxPool2D(2)(f)\n",
    "   p = keras.layers.Dropout(0.3)(p)\n",
    "   return f, p\n",
    "\n",
    "def upsample_block(x, conv_features, n_filters):\n",
    "   # upsample\n",
    "   x = keras.layers.Conv2DTranspose(n_filters, 3, 2, padding=\"same\")(x)\n",
    "   # concatenate\n",
    "   x = keras.layers.concatenate([x, conv_features])\n",
    "   # dropout\n",
    "   x = keras.layers.Dropout(0.3)(x)\n",
    "   # Conv2D twice with ReLU activation\n",
    "   x = double_conv_block(x, n_filters)\n",
    "   return x"
   ]
  },
  {
   "cell_type": "code",
   "execution_count": null,
   "id": "ce23d5e7",
   "metadata": {},
   "outputs": [],
   "source": [
    "def build_unet_model(input_shape):\n",
    "     # inputs\n",
    "   inputs = keras.layers.Input(shape=input_shape)\n",
    "   # encoder: contracting path - downsample\n",
    "   # 1 - downsample\n",
    "   f1, p1 = downsample_block(inputs, 16)\n",
    "   # 2 - downsample\n",
    "   f2, p2 = downsample_block(p1, 32)\n",
    "   # 3 - downsample\n",
    "   f3, p3 = downsample_block(p2, 64)\n",
    "   # 4 - downsample\n",
    "   f4, p4 = downsample_block(p3, 128)\n",
    "   # 5 - bottleneck\n",
    "   bottleneck = double_conv_block(p4, 256)\n",
    "   # decoder: expanding path - upsample\n",
    "   # 6 - upsample\n",
    "   u6 = upsample_block(bottleneck, f4, 128)\n",
    "   # 7 - upsample\n",
    "   u7 = upsample_block(u6, f3, 64)\n",
    "   # 8 - upsample\n",
    "   u8 = upsample_block(u7, f2, 32)\n",
    "   # 9 - upsample\n",
    "   u9 = upsample_block(u8, f1, 16)\n",
    "   # outputs\n",
    "   f = keras.layers.Flatten()(u9) \n",
    "   outputs = keras.layers.Dense(1,\"sigmoid\")(f)#keras.layers.Conv2D(1, 1, padding=\"same\", activation = \"softmax\")(f)\n",
    "   # unet model with Keras Functional API\n",
    "   unet_model = keras.Model(inputs, outputs, name=\"U-Net\")\n",
    "   \n",
    "   unet_model.compile(optimizer=lr, loss=\"binary_crossentropy\", metrics=[\"accuracy\", get_f1])\n",
    "   return unet_model\n",
    "\n"
   ]
  },
  {
   "cell_type": "code",
   "execution_count": null,
   "id": "b2bf6028",
   "metadata": {},
   "outputs": [],
   "source": [
    "data_dir_train = 'Dataset/train/'\n",
    "data_dir_test = 'Dataset/test/'\n",
    "\n",
    "img_size = 256\n",
    "input_shape = (img_size, img_size, 3)\n",
    "target_size =(img_size,img_size)\n",
    "batch_size = 32\n",
    "num_classes = 1\n",
    "\n",
    "test_num = 1\n",
    "\n",
    "compile_optimizer = \"adam\"\n",
    "compile_loss = \"binary_crossentropy\"\n",
    "lr = keras.optimizers.Adam(learning_rate=0.001)\n",
    "\n",
    "csv_path = f'Results/Dataset_U_net_{batch_size}_{img_size}_Test_{test_num}.csv'\n",
    "save_model_path = f\"Models/Dataset_U_net_{batch_size}_{img_size}_Test_{test_num}.h5\""
   ]
  },
  {
   "cell_type": "code",
   "execution_count": null,
   "id": "2b6756c4",
   "metadata": {},
   "outputs": [],
   "source": [
    "training_data = ImageDataGenerator(\n",
    "        rescale = 1./255,\n",
    "        rotation_range = 40,\n",
    "        width_shift_range = 0.25,\n",
    "        height_shift_range = 0.25,\n",
    "        shear_range = 0.25,\n",
    "        zoom_range = 0.3,\n",
    "        brightness_range= [0.6,0.9],\n",
    "        horizontal_flip = True,\n",
    "        fill_mode = 'nearest',\n",
    "        validation_split = 0.2,\n",
    "        )\n",
    "\n",
    "test_data = ImageDataGenerator(\n",
    "        rescale = 1./255,\n",
    "        )"
   ]
  },
  {
   "cell_type": "code",
   "execution_count": null,
   "id": "f50f2173",
   "metadata": {},
   "outputs": [],
   "source": [
    "train_ds = training_data.flow_from_directory(\n",
    "    directory=data_dir_train,\n",
    "    shuffle = True,\n",
    "    seed = 42,\n",
    "    color_mode=\"rgb\",\n",
    "    class_mode = 'binary',\n",
    "    target_size=target_size,\n",
    "    batch_size=batch_size,\n",
    "    subset=\"training\",\n",
    "   )\n",
    "\n",
    "validation_ds = training_data.flow_from_directory(\n",
    "    directory=data_dir_train,\n",
    "    shuffle = True,\n",
    "    seed = 42,\n",
    "    class_mode = 'binary',\n",
    "    color_mode=\"rgb\",\n",
    "    target_size=target_size,\n",
    "    batch_size=batch_size,\n",
    "    subset=\"validation\",\n",
    "    )\n",
    "\n",
    "test_ds = test_data.flow_from_directory(\n",
    "    directory=data_dir_test,\n",
    "    target_size=target_size,\n",
    "    color_mode=\"rgb\",\n",
    "    shuffle = False,\n",
    "    )"
   ]
  },
  {
   "cell_type": "code",
   "execution_count": null,
   "id": "49643930",
   "metadata": {},
   "outputs": [],
   "source": [
    "model = build_unet_model(input_shape)\n",
    "#model.summary()"
   ]
  },
  {
   "cell_type": "code",
   "execution_count": null,
   "id": "7d75ba99",
   "metadata": {
    "scrolled": false
   },
   "outputs": [],
   "source": [
    "checkpoint = ModelCheckpoint(save_model_path, monitor='val_accuracy',\n",
    "                             save_best_only=True, save_weights_only=True, mode='auto')\n",
    "\n",
    "early = EarlyStopping(monitor='val_accuracy', patience=5, verbose=1)\n",
    "\n",
    "history = model.fit(train_ds, epochs=100, callbacks=[checkpoint,early], validation_data = validation_ds)"
   ]
  },
  {
   "cell_type": "code",
   "execution_count": null,
   "id": "799332d2",
   "metadata": {},
   "outputs": [],
   "source": [
    "model.load_weights(save_model_path)\n",
    "#df = pd.DataFrame(history.history)\n",
    "#df.plot(figsize=(10,8))\n",
    "val_data = model.evaluate(validation_ds)\n",
    "#log = f'Dataset_2_ResNet34_{batch_size}_{img_size}_Test_{test_num} : '+ str(val_data)\n",
    "#logging.info(log)"
   ]
  },
  {
   "cell_type": "code",
   "execution_count": null,
   "id": "3cdd649b",
   "metadata": {},
   "outputs": [],
   "source": [
    "pred = model.predict(test_ds, steps = len(test_ds), verbose=1)\n",
    "cl = np.round(pred)\n",
    "classes_prediction = []\n",
    "for prediction in cl[:,0]:\n",
    "    if (prediction == 0.0):\n",
    "        classes_prediction.append('Cracked')\n",
    "    elif(prediction == 1.0):\n",
    "        classes_prediction.append('Uncracked')\n",
    "\n",
    "filenames=test_ds.filenames\n",
    "results=pd.DataFrame({\"file\":filenames,\"prediction\":pred[:,0], \"class\":classes_prediction})"
   ]
  },
  {
   "cell_type": "code",
   "execution_count": null,
   "id": "3e7ac836",
   "metadata": {},
   "outputs": [],
   "source": [
    "results.to_csv(csv_path)\n",
    "results.style"
   ]
  },
  {
   "cell_type": "code",
   "execution_count": null,
   "id": "ed4049e0",
   "metadata": {},
   "outputs": [],
   "source": [
    "import cv2 \n",
    "rez = pd.read_csv(csv_path)\n",
    "plt.figure(figsize=(40,28))\n",
    "for i in range(56):\n",
    "    img_path = str(rez['file'][i])\n",
    "    image_path = data_dir_test + 'test/' + img_path[5:]\n",
    "    #print(image_path)\n",
    "    class_pred = str(rez['class'][i])\n",
    "    img = cv2.imread(image_path)\n",
    "    plt.subplot(7,8, i+1)\n",
    "    plt.imshow(img)\n",
    "    plt.title(class_pred)"
   ]
  },
  {
   "cell_type": "code",
   "execution_count": null,
   "id": "b11469b6",
   "metadata": {},
   "outputs": [],
   "source": [
    "print(classes_prediction.count(\"Cracked\"))"
   ]
  }
 ],
 "metadata": {
  "kernelspec": {
   "display_name": "Python 3 (ipykernel)",
   "language": "python",
   "name": "python3"
  },
  "language_info": {
   "codemirror_mode": {
    "name": "ipython",
    "version": 3
   },
   "file_extension": ".py",
   "mimetype": "text/x-python",
   "name": "python",
   "nbconvert_exporter": "python",
   "pygments_lexer": "ipython3",
   "version": "3.9.7"
  }
 },
 "nbformat": 4,
 "nbformat_minor": 5
}
