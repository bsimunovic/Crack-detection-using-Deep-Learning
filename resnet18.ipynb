{
 "cells": [
  {
   "cell_type": "code",
   "execution_count": null,
   "id": "8e4f0186",
   "metadata": {},
   "outputs": [],
   "source": [
    "import numpy as np\n",
    "from sklearn.metrics import confusion_matrix, classification_report\n",
    "import matplotlib.pyplot as plt\n",
    "import seaborn as sns\n",
    "import pandas as pd\n",
    "\n",
    "from tensorflow import keras\n",
    "from tensorflow.keras.models import Sequential\n",
    "from tensorflow.keras.preprocessing import image_dataset_from_directory\n",
    "from tensorflow.keras.preprocessing.image import ImageDataGenerator\n",
    "from tensorflow.keras.callbacks import ModelCheckpoint, EarlyStopping"
   ]
  },
  {
   "cell_type": "code",
   "execution_count": null,
   "id": "53609e9a",
   "metadata": {},
   "outputs": [],
   "source": [
    "def identity_block(x, filter):\n",
    "\n",
    "    x_skip = x\n",
    "\n",
    "    x =  keras.layers.Conv2D(filter, (3,3), padding = 'same')(x)\n",
    "    x =  keras.layers.BatchNormalization(axis=3)(x)\n",
    "    x =  keras.layers.Activation('relu')(x)\n",
    "\n",
    "    x =  keras.layers.Conv2D(filter, (3,3), padding = 'same')(x)\n",
    "    x =  keras.layers.BatchNormalization(axis=3)(x)\n",
    "\n",
    "    x =  keras.layers.Add()([x, x_skip])     \n",
    "    x =  keras.layers.Activation('relu')(x)\n",
    "    return x"
   ]
  },
  {
   "cell_type": "code",
   "execution_count": null,
   "id": "38b9e48d",
   "metadata": {},
   "outputs": [],
   "source": [
    "def convolutional_block(x, filter):\n",
    "\n",
    "    x_skip = x\n",
    "\n",
    "    x =  keras.layers.Conv2D(filter, (3,3), padding = 'same', strides = (2,2))(x)\n",
    "    x =  keras.layers.BatchNormalization(axis=3)(x)\n",
    "    x =  keras.layers.Activation('relu')(x)\n",
    "\n",
    "    x =  keras.layers.Conv2D(filter, (3,3), padding = 'same')(x)\n",
    "    x =  keras.layers.BatchNormalization(axis=3)(x)\n",
    "\n",
    "    x_skip =  keras.layers.Conv2D(filter, (1,1), strides = (2,2))(x_skip)\n",
    "\n",
    "    x =  keras.layers.Add()([x, x_skip])     \n",
    "    x =  keras.layers.Activation('relu')(x)\n",
    "    return x"
   ]
  },
  {
   "cell_type": "code",
   "execution_count": null,
   "id": "40475c97",
   "metadata": {},
   "outputs": [],
   "source": [
    "def ResNet18(shape = (96, 96, 3), classes = 1):\n",
    "\n",
    "    x_input = keras.layers.Input(shape)\n",
    "    x = keras.layers.ZeroPadding2D((3, 3))(x_input)\n",
    "\n",
    "    x = keras.layers.Conv2D(64, kernel_size=7, strides=2, padding='same')(x)\n",
    "    x = keras.layers.BatchNormalization()(x)\n",
    "    x = keras.layers.Activation('relu')(x)\n",
    "    x = keras.layers.MaxPool2D(pool_size=3, strides=2, padding='same')(x)\n",
    "\n",
    "    block_layers = [2,2,2,2]\n",
    "    filter_size = 64\n",
    "\n",
    "    for i in range(4):\n",
    "        if i == 0:\n",
    "            for j in range(block_layers[i]):\n",
    "                x = identity_block(x, filter_size)\n",
    "        else:\n",
    "            filter_size = filter_size*2\n",
    "            x = convolutional_block(x, filter_size)\n",
    "            for j in range(block_layers[i] - 1):\n",
    "                x = identity_block(x, filter_size)\n",
    "\n",
    "    x = keras.layers.AveragePooling2D((2,2), padding = 'same')(x)\n",
    "    x = keras.layers.Flatten()(x)\n",
    "    x = keras.layers.Dense(512, activation = 'relu')(x)\n",
    "    x = keras.layers.Dense(classes, activation = 'sigmoid')(x)\n",
    "    model = keras.models.Model(inputs = x_input, outputs = x, name = \"ResNet18\")\n",
    "    model.compile(loss='binary_crossentropy', optimizer=lr, metrics=['accuracy'])\n",
    "    return model"
   ]
  },
  {
   "cell_type": "code",
   "execution_count": null,
   "id": "b2bf6028",
   "metadata": {},
   "outputs": [],
   "source": [
    "data_dir_train = 'Dataset/train/'\n",
    "data_dir_test = 'Dataset/test/'\n",
    "\n",
    "img_size = 256\n",
    "input_shape = (img_size, img_size, 3)\n",
    "target_size =(img_size,img_size)\n",
    "batch_size = 32\n",
    "num_classes = 1\n",
    "\n",
    "test_num = \"100\"\n",
    "\n",
    "compile_optimizer = \"adam\"\n",
    "compile_loss = \"binary_crossentropy\"\n",
    "lr = keras.optimizers.Adam(learning_rate=0.0005)\n",
    "\n",
    "csv_path = f'Results/Dataset_ResNet18_{batch_size}_{img_size}_Test_{test_num}.csv'\n",
    "save_model_path = f\"Models/Dataset_ResNet18_{batch_size}_{img_size}_Test_{test_num}.h5\""
   ]
  },
  {
   "cell_type": "code",
   "execution_count": null,
   "id": "2b6756c4",
   "metadata": {},
   "outputs": [],
   "source": [
    "training_data = ImageDataGenerator(\n",
    "        rescale = 1./255,\n",
    "        rotation_range = 40,\n",
    "        width_shift_range = 0.25,\n",
    "        height_shift_range = 0.25,\n",
    "        shear_range = 0.25,\n",
    "        zoom_range = 0.3,\n",
    "        brightness_range= [0.6,0.9],\n",
    "        horizontal_flip = True,\n",
    "        fill_mode = 'nearest',\n",
    "        validation_split = 0.2,\n",
    "        )\n",
    "\n",
    "test_data = ImageDataGenerator(\n",
    "        rescale = 1./255,\n",
    "        )"
   ]
  },
  {
   "cell_type": "code",
   "execution_count": null,
   "id": "f50f2173",
   "metadata": {},
   "outputs": [],
   "source": [
    "train_ds = training_data.flow_from_directory(\n",
    "    directory=data_dir_train,\n",
    "    shuffle = True,\n",
    "    seed = 2,\n",
    "    class_mode = 'binary',\n",
    "    target_size=target_size,\n",
    "    batch_size=batch_size,\n",
    "    subset=\"training\",\n",
    "   )\n",
    "\n",
    "validation_ds = training_data.flow_from_directory(\n",
    "    directory=data_dir_train,\n",
    "    shuffle = True,\n",
    "    seed = 2,\n",
    "    class_mode = 'binary',\n",
    "    target_size=target_size,\n",
    "    batch_size=batch_size,\n",
    "    subset=\"validation\",\n",
    "    )\n",
    "\n",
    "test_ds = test_data.flow_from_directory(\n",
    "    directory=data_dir_test,\n",
    "    target_size=target_size,\n",
    "    shuffle = False,\n",
    "    )"
   ]
  },
  {
   "cell_type": "code",
   "execution_count": null,
   "id": "49643930",
   "metadata": {},
   "outputs": [],
   "source": [
    "model = ResNet18(input_shape)\n",
    "model.summary()"
   ]
  },
  {
   "cell_type": "code",
   "execution_count": null,
   "id": "7d75ba99",
   "metadata": {
    "scrolled": false
   },
   "outputs": [],
   "source": [
    "#checkpoint = ModelCheckpoint(save_model_path, monitor='val_accuracy', save_best_only=True, save_weights_only=True, mode='auto')\n",
    "\n",
    "#early = EarlyStopping(monitor='val_accuracy', patience=5, verbose=1)\n",
    "\n",
    "#history = model.fit(train_ds, epochs=300, callbacks=[checkpoint,early], validation_data = validation_ds)"
   ]
  },
  {
   "cell_type": "code",
   "execution_count": null,
   "id": "799332d2",
   "metadata": {},
   "outputs": [],
   "source": [
    "model.load_weights(save_model_path)\n",
    "model.evaluate(validation_ds)\n",
    "#df = pd.DataFrame(history.history)\n",
    "#df.plot(figsize=(10,8))"
   ]
  },
  {
   "cell_type": "code",
   "execution_count": null,
   "id": "3cdd649b",
   "metadata": {},
   "outputs": [],
   "source": [
    "pred = model.predict(test_ds, steps = len(test_ds), verbose=1)\n",
    "cl = np.round(pred)\n",
    "classes_prediction = []\n",
    "for prediction in cl[:,0]:\n",
    "    if (prediction == 0.0):\n",
    "        classes_prediction.append('Cracked')\n",
    "    elif(prediction == 1.0):\n",
    "        classes_prediction.append('Uncracked')\n",
    "\n",
    "filenames=test_ds.filenames\n",
    "results=pd.DataFrame({\"file\":filenames,\"prediction\":pred[:,0], \"class\":classes_prediction})"
   ]
  },
  {
   "cell_type": "code",
   "execution_count": null,
   "id": "3e7ac836",
   "metadata": {},
   "outputs": [],
   "source": [
    "results.to_csv(csv_path)\n",
    "#import jinja2\n",
    "#results.style"
   ]
  },
  {
   "cell_type": "code",
   "execution_count": null,
   "id": "ed4049e0",
   "metadata": {},
   "outputs": [],
   "source": [
    "import cv2 \n",
    "rez = pd.read_csv(csv_path)\n",
    "plt.figure(figsize=(40,28))\n",
    "for i in range(56):\n",
    "    img_path = str(rez['file'][i])\n",
    "    image_path = data_dir_test + 'test/' + img_path[5:]\n",
    "    #print(image_path)\n",
    "    class_pred = str(rez['class'][i])\n",
    "    img = cv2.imread(image_path)\n",
    "    plt.subplot(7,8, i+1)\n",
    "    plt.imshow(img)\n",
    "    plt.title(class_pred)"
   ]
  },
  {
   "cell_type": "code",
   "execution_count": null,
   "id": "b11469b6",
   "metadata": {},
   "outputs": [],
   "source": [
    "print(classes_prediction.count(\"Cracked\"))"
   ]
  }
 ],
 "metadata": {
  "kernelspec": {
   "display_name": "Python 3 (ipykernel)",
   "language": "python",
   "name": "python3"
  },
  "language_info": {
   "codemirror_mode": {
    "name": "ipython",
    "version": 3
   },
   "file_extension": ".py",
   "mimetype": "text/x-python",
   "name": "python",
   "nbconvert_exporter": "python",
   "pygments_lexer": "ipython3",
   "version": "3.9.7"
  }
 },
 "nbformat": 4,
 "nbformat_minor": 5
}
