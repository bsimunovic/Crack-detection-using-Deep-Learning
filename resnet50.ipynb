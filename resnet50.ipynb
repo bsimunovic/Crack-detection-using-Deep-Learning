{
 "cells": [
  {
   "cell_type": "code",
   "execution_count": null,
   "id": "8e4f0186",
   "metadata": {},
   "outputs": [],
   "source": [
    "import numpy as np\n",
    "from sklearn.metrics import confusion_matrix, classification_report\n",
    "import matplotlib.pyplot as plt\n",
    "import seaborn as sns\n",
    "import pandas as pd\n",
    "\n",
    "from tensorflow import keras\n",
    "from tensorflow.keras.preprocessing import image_dataset_from_directory\n",
    "from tensorflow.keras.preprocessing.image import ImageDataGenerator\n",
    "from keras.callbacks import ModelCheckpoint, EarlyStopping\n",
    "from keras.initializers import glorot_uniform\n",
    "from keras.layers import Input, Add, Dense, Activation, ZeroPadding2D, BatchNormalization, Flatten, Conv2D, AveragePooling2D, MaxPooling2D, GlobalMaxPooling2D,MaxPool2D\n",
    "import keras.backend as K"
   ]
  },
  {
   "cell_type": "code",
   "execution_count": null,
   "id": "c5e9e0fb",
   "metadata": {},
   "outputs": [],
   "source": [
    "def get_f1(y_true, y_pred):\n",
    "    true_positives = K.sum(K.round(K.clip(y_true * y_pred, 0, 1)))\n",
    "    possible_positives = K.sum(K.round(K.clip(y_true, 0, 1)))\n",
    "    predicted_positives = K.sum(K.round(K.clip(y_pred, 0, 1)))\n",
    "    precision = true_positives / (predicted_positives + K.epsilon())\n",
    "    recall = true_positives / (possible_positives + K.epsilon())\n",
    "    f1_val = 2*(precision*recall)/(precision+recall+K.epsilon())\n",
    "    return f1_val"
   ]
  },
  {
   "cell_type": "code",
   "execution_count": null,
   "id": "53609e9a",
   "metadata": {},
   "outputs": [],
   "source": [
    "\n",
    "def identity_block(X, f, filters, stage, block):\n",
    "   \n",
    "    conv_name_base = 'res' + str(stage) + block + '_branch'\n",
    "    bn_name_base = 'bn' + str(stage) + block + '_branch'\n",
    "    F1, F2, F3 = filters\n",
    "\n",
    "    X_shortcut = X\n",
    "   \n",
    "    X = Conv2D(filters=F1, kernel_size=(1, 1), strides=(1, 1), padding='valid', name=conv_name_base + '2a', kernel_initializer=glorot_uniform(seed=0))(X)\n",
    "    X = BatchNormalization(axis=3, name=bn_name_base + '2a')(X)\n",
    "    X = Activation('relu')(X)\n",
    "\n",
    "    X = Conv2D(filters=F2, kernel_size=(f, f), strides=(1, 1), padding='same', name=conv_name_base + '2b', kernel_initializer=glorot_uniform(seed=0))(X)\n",
    "    X = BatchNormalization(axis=3, name=bn_name_base + '2b')(X)\n",
    "    X = Activation('relu')(X)\n",
    "\n",
    "    X = Conv2D(filters=F3, kernel_size=(1, 1), strides=(1, 1), padding='valid', name=conv_name_base + '2c', kernel_initializer=glorot_uniform(seed=0))(X)\n",
    "    X = BatchNormalization(axis=3, name=bn_name_base + '2c')(X)\n",
    "\n",
    "    X = Add()([X, X_shortcut])\n",
    "    X = Activation('relu')(X)\n",
    "\n",
    "    return X"
   ]
  },
  {
   "cell_type": "code",
   "execution_count": null,
   "id": "38b9e48d",
   "metadata": {},
   "outputs": [],
   "source": [
    "def convolutional_block(X, f, filters, stage, block, s=2):\n",
    "   \n",
    "    conv_name_base = 'res' + str(stage) + block + '_branch'\n",
    "    bn_name_base = 'bn' + str(stage) + block + '_branch'\n",
    "\n",
    "    F1, F2, F3 = filters\n",
    "\n",
    "    X_shortcut = X\n",
    "\n",
    "    X = Conv2D(filters=F1, kernel_size=(1, 1), strides=(s, s), padding='valid', name=conv_name_base + '2a', kernel_initializer=glorot_uniform(seed=0))(X)\n",
    "    X = BatchNormalization(axis=3, name=bn_name_base + '2a')(X)\n",
    "    X = Activation('relu')(X)\n",
    "\n",
    "    X = Conv2D(filters=F2, kernel_size=(f, f), strides=(1, 1), padding='same', name=conv_name_base + '2b', kernel_initializer=glorot_uniform(seed=0))(X)\n",
    "    X = BatchNormalization(axis=3, name=bn_name_base + '2b')(X)\n",
    "    X = Activation('relu')(X)\n",
    "\n",
    "    X = Conv2D(filters=F3, kernel_size=(1, 1), strides=(1, 1), padding='valid', name=conv_name_base + '2c', kernel_initializer=glorot_uniform(seed=0))(X)\n",
    "    X = BatchNormalization(axis=3, name=bn_name_base + '2c')(X)\n",
    "\n",
    "    X_shortcut = Conv2D(filters=F3, kernel_size=(1, 1), strides=(s, s), padding='valid', name=conv_name_base + '1', kernel_initializer=glorot_uniform(seed=0))(X_shortcut)\n",
    "    X_shortcut = BatchNormalization(axis=3, name=bn_name_base + '1')(X_shortcut)\n",
    "\n",
    "    X = Add()([X, X_shortcut])\n",
    "    X = Activation('relu')(X)\n",
    "\n",
    "    return X"
   ]
  },
  {
   "cell_type": "code",
   "execution_count": null,
   "id": "f174afb1",
   "metadata": {},
   "outputs": [],
   "source": [
    "def ResNet50(input_shape=(96,96,3)):\n",
    "\n",
    "    X_input = Input(input_shape)\n",
    "\n",
    "    X = ZeroPadding2D((3, 3))(X_input)\n",
    "\n",
    "    X = Conv2D(64, (7, 7), strides=(2, 2), name='conv1', kernel_initializer=glorot_uniform(seed=0))(X)\n",
    "    X = BatchNormalization(axis=3, name='bn_conv1')(X)\n",
    "    X = Activation('relu')(X)\n",
    "    X = MaxPooling2D((3, 3), strides=(2, 2))(X)\n",
    "\n",
    "    X = convolutional_block(X, f=3, filters=[64, 64, 256], stage=2, block='a', s=1)\n",
    "    X = identity_block(X, 3, [64, 64, 256], stage=2, block='b')\n",
    "    X = identity_block(X, 3, [64, 64, 256], stage=2, block='c')\n",
    "\n",
    "\n",
    "    X = convolutional_block(X, f=3, filters=[128, 128, 512], stage=3, block='a', s=2)\n",
    "    X = identity_block(X, 3, [128, 128, 512], stage=3, block='b')\n",
    "    X = identity_block(X, 3, [128, 128, 512], stage=3, block='c')\n",
    "    X = identity_block(X, 3, [128, 128, 512], stage=3, block='d')\n",
    "    X = keras.layers.Dropout(0.5)(X)\n",
    "\n",
    "    X = convolutional_block(X, f=3, filters=[256, 256, 1024], stage=4, block='a', s=2)\n",
    "    X = identity_block(X, 3, [256, 256, 1024], stage=4, block='b')\n",
    "    X = identity_block(X, 3, [256, 256, 1024], stage=4, block='c')\n",
    "    X = identity_block(X, 3, [256, 256, 1024], stage=4, block='d')\n",
    "    X = identity_block(X, 3, [256, 256, 1024], stage=4, block='e')\n",
    "    X = identity_block(X, 3, [256, 256, 1024], stage=4, block='f')\n",
    "\n",
    "    X = X = convolutional_block(X, f=3, filters=[512, 512, 2048], stage=5, block='a', s=2)\n",
    "    X = identity_block(X, 3, [512, 512, 2048], stage=5, block='b')\n",
    "    X = identity_block(X, 3, [512, 512, 2048], stage=5, block='c')\n",
    "\n",
    "    X = AveragePooling2D(pool_size=(2, 2), padding='same')(X)\n",
    "    X = keras.layers.Flatten()(X)\n",
    "    X = keras.layers.Dense(512, activation = 'relu')(X)\n",
    "    X = keras.layers.Dense(1, activation = 'sigmoid')(X)\n",
    "    model = keras.models.Model(inputs=X_input, outputs=X, name='ResNet50_test')\n",
    "    model.compile(loss=compile_loss, optimizer=lr, metrics=['accuracy', get_f1])\n",
    "    return model"
   ]
  },
  {
   "cell_type": "code",
   "execution_count": null,
   "id": "b2bf6028",
   "metadata": {},
   "outputs": [],
   "source": [
    "data_dir_train = 'Dataset/train/'\n",
    "data_dir_test = 'Dataset/test/'\n",
    "\n",
    "img_size = 256\n",
    "input_shape = (img_size, img_size, 3)\n",
    "target_size =(img_size,img_size)\n",
    "batch_size = 32\n",
    "num_classes = 1\n",
    "\n",
    "test_num = 100\n",
    "\n",
    "compile_optimizer = \"adam\"\n",
    "compile_loss = \"binary_crossentropy\"\n",
    "lr = keras.optimizers.Adam(learning_rate=0.001)\n",
    "\n",
    "csv_path = f'Results/Dataset_ResNet50_{batch_size}_{img_size}_Test_{test_num}.csv'\n",
    "save_model_path = f\"Models/Dataset_ResNet50_{batch_size}_{img_size}_Test_{test_num}.h5\""
   ]
  },
  {
   "cell_type": "code",
   "execution_count": null,
   "id": "2b6756c4",
   "metadata": {},
   "outputs": [],
   "source": [
    "training_data = ImageDataGenerator(\n",
    "        rescale = 1./255,\n",
    "        rotation_range = 40,\n",
    "        width_shift_range = 0.25,\n",
    "        height_shift_range = 0.25,\n",
    "        shear_range = 0.45,\n",
    "        zoom_range = 0.5,\n",
    "        brightness_range= [0.6,0.9],\n",
    "        horizontal_flip = True,\n",
    "        fill_mode = 'nearest',\n",
    "        validation_split = 0.2,\n",
    "        )\n",
    "\n",
    "test_data = ImageDataGenerator(\n",
    "        rescale = 1./255,\n",
    "        )"
   ]
  },
  {
   "cell_type": "code",
   "execution_count": null,
   "id": "f50f2173",
   "metadata": {},
   "outputs": [],
   "source": [
    "train_ds = training_data.flow_from_directory(\n",
    "    directory=data_dir_train,\n",
    "    shuffle = True,\n",
    "    seed = 2,\n",
    "    class_mode = 'binary',\n",
    "    target_size=target_size,\n",
    "    batch_size=batch_size,\n",
    "    subset=\"training\",\n",
    "   )\n",
    "\n",
    "validation_ds = training_data.flow_from_directory(\n",
    "    directory=data_dir_train,\n",
    "    shuffle = True,\n",
    "    seed = 2,\n",
    "    class_mode = 'binary',\n",
    "    target_size=target_size,\n",
    "    batch_size=batch_size,\n",
    "    subset=\"validation\",\n",
    "    )\n",
    "\n",
    "test_ds = test_data.flow_from_directory(\n",
    "    directory=data_dir_test,\n",
    "    target_size=target_size,\n",
    "    shuffle = False,\n",
    "    )"
   ]
  },
  {
   "cell_type": "code",
   "execution_count": null,
   "id": "49643930",
   "metadata": {},
   "outputs": [],
   "source": [
    "model = ResNet50(input_shape = input_shape)\n",
    "model.summary()"
   ]
  },
  {
   "cell_type": "code",
   "execution_count": null,
   "id": "7d75ba99",
   "metadata": {
    "scrolled": false
   },
   "outputs": [],
   "source": [
    "checkpoint = ModelCheckpoint(save_model_path, monitor='val_accuracy',\n",
    "                             save_best_only=True, save_weights_only=True, mode='auto')\n",
    "\n",
    "early = EarlyStopping(monitor='val_accuracy', patience=5, verbose=1)\n",
    "\n",
    "history = model.fit(train_ds, epochs=300, callbacks=[checkpoint,early], validation_data = validation_ds)"
   ]
  },
  {
   "cell_type": "code",
   "execution_count": null,
   "id": "799332d2",
   "metadata": {},
   "outputs": [],
   "source": [
    "model.load_weights(save_model_path)\n",
    "#df = pd.DataFrame(history.history)\n",
    "#df.plot(figsize=(10,8))"
   ]
  },
  {
   "cell_type": "code",
   "execution_count": null,
   "id": "3cdd649b",
   "metadata": {},
   "outputs": [],
   "source": [
    "pred = model.predict(test_ds, steps = len(test_ds), verbose=1)\n",
    "cl = np.round(pred)\n",
    "classes_prediction = []\n",
    "for prediction in cl[:,0]:\n",
    "    if (prediction == 0.0):\n",
    "        classes_prediction.append('Cracked')\n",
    "    elif(prediction == 1.0):\n",
    "        classes_prediction.append('Uncracked')\n",
    "\n",
    "filenames=test_ds.filenames\n",
    "results=pd.DataFrame({\"file\":filenames,\"prediction\":pred[:,0], \"class\":classes_prediction})"
   ]
  },
  {
   "cell_type": "code",
   "execution_count": null,
   "id": "3e7ac836",
   "metadata": {},
   "outputs": [],
   "source": [
    "results.to_csv(csv_path)"
   ]
  },
  {
   "cell_type": "code",
   "execution_count": null,
   "id": "3e597430",
   "metadata": {},
   "outputs": [],
   "source": [
    "model.evaluate(validation_ds)"
   ]
  },
  {
   "cell_type": "code",
   "execution_count": null,
   "id": "b67859a4",
   "metadata": {},
   "outputs": [],
   "source": [
    "import cv2 \n",
    "rez = pd.read_csv(csv_path)\n",
    "plt.figure(figsize=(40,28))\n",
    "for i in range(56):\n",
    "    img_path = str(rez['file'][i])\n",
    "    image_path = data_dir_test + 'test/' + img_path[5:]\n",
    "    #print(image_path)\n",
    "    class_pred = str(rez['class'][i])\n",
    "    img = cv2.imread(image_path)\n",
    "    plt.subplot(7,8, i+1)\n",
    "    plt.imshow(img)\n",
    "    plt.title(class_pred)"
   ]
  },
  {
   "cell_type": "code",
   "execution_count": null,
   "id": "6a299d0c",
   "metadata": {},
   "outputs": [],
   "source": [
    "print(classes_prediction.count(\"Cracked\"))"
   ]
  }
 ],
 "metadata": {
  "kernelspec": {
   "display_name": "Python 3 (ipykernel)",
   "language": "python",
   "name": "python3"
  },
  "language_info": {
   "codemirror_mode": {
    "name": "ipython",
    "version": 3
   },
   "file_extension": ".py",
   "mimetype": "text/x-python",
   "name": "python",
   "nbconvert_exporter": "python",
   "pygments_lexer": "ipython3",
   "version": "3.9.7"
  }
 },
 "nbformat": 4,
 "nbformat_minor": 5
}
